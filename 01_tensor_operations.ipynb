{
  "nbformat": 4,
  "nbformat_minor": 0,
  "metadata": {
    "kernelspec": {
      "display_name": "Python 3",
      "language": "python",
      "name": "python3"
    },
    "language_info": {
      "codemirror_mode": {
        "name": "ipython",
        "version": 3
      },
      "file_extension": ".py",
      "mimetype": "text/x-python",
      "name": "python",
      "nbconvert_exporter": "python",
      "pygments_lexer": "ipython3",
      "version": "3.7.6"
    },
    "colab": {
      "name": "01-tensor-operations.ipynb",
      "provenance": [],
      "include_colab_link": true
    }
  },
  "cells": [
    {
      "cell_type": "markdown",
      "metadata": {
        "id": "view-in-github",
        "colab_type": "text"
      },
      "source": [
        "<a href=\"https://colab.research.google.com/github/jaingautam93/Python_Pytorch_GTM/blob/master/01_tensor_operations.ipynb\" target=\"_parent\"><img src=\"https://colab.research.google.com/assets/colab-badge.svg\" alt=\"Open In Colab\"/></a>"
      ]
    },
    {
      "cell_type": "markdown",
      "metadata": {
        "id": "7SbCyxcWylsL",
        "colab_type": "text"
      },
      "source": [
        "# Torch Tensor Functions\n",
        "\n",
        "### Top Five Torch Tensor Operations\n",
        "\n",
        "Pytorch is free and open-source machine learning library based on python, based on torch, built to provide flexibility as a deep learning development platform.\n",
        "\n",
        "Let's check out some of the functions that operate on tensors."
      ]
    },
    {
      "cell_type": "code",
      "metadata": {
        "id": "GLk1hYJRylsN",
        "colab_type": "code",
        "colab": {}
      },
      "source": [
        "# Import torch and other required modules\n",
        "import torch"
      ],
      "execution_count": 0,
      "outputs": []
    },
    {
      "cell_type": "markdown",
      "metadata": {
        "id": "08G85Rrfylsa",
        "colab_type": "text"
      },
      "source": [
        "## Function 1 - torch.tensor: reshape\n",
        "\n",
        "The reshape function takes an input tensor and returns a tensor with same data and number of elements but in a specified shape\n",
        "\n",
        "input: A tensor to be reshaped\n",
        "\n",
        "shape: The new shape in for of python tuple(Shape must bve compatible with the number of data)"
      ]
    },
    {
      "cell_type": "code",
      "metadata": {
        "id": "Nq0y2lRIylse",
        "colab_type": "code",
        "colab": {
          "base_uri": "https://localhost:8080/",
          "height": 119
        },
        "outputId": "64f15245-dc8a-4ba8-de22-f62e9386f758"
      },
      "source": [
        "# Example 1 - working\n",
        "data=torch.randn(size=[2,4])\n",
        "print(data)\n",
        "torch.reshape(input=data, shape=(4,2))"
      ],
      "execution_count": 3,
      "outputs": [
        {
          "output_type": "stream",
          "text": [
            "tensor([[-0.5639,  2.5635,  1.1584,  0.4433],\n",
            "        [-2.2768, -0.0283,  0.3005, -2.5065]])\n"
          ],
          "name": "stdout"
        },
        {
          "output_type": "execute_result",
          "data": {
            "text/plain": [
              "tensor([[-0.5639,  2.5635],\n",
              "        [ 1.1584,  0.4433],\n",
              "        [-2.2768, -0.0283],\n",
              "        [ 0.3005, -2.5065]])"
            ]
          },
          "metadata": {
            "tags": []
          },
          "execution_count": 3
        }
      ]
    },
    {
      "cell_type": "markdown",
      "metadata": {
        "id": "ce7zUgMfylst",
        "colab_type": "text"
      },
      "source": [
        "The Input tensor was of shape (2,4) and output is (4,2)."
      ]
    },
    {
      "cell_type": "code",
      "metadata": {
        "id": "I5u-YpG4ylsx",
        "colab_type": "code",
        "colab": {
          "base_uri": "https://localhost:8080/",
          "height": 119
        },
        "outputId": "1e3eab3b-5684-4d5b-dfcb-d1d20b08cb06"
      },
      "source": [
        "# Example 2 - working\n",
        "torch.reshape(input=torch.randn((3,4)), shape=(6,2))"
      ],
      "execution_count": 4,
      "outputs": [
        {
          "output_type": "execute_result",
          "data": {
            "text/plain": [
              "tensor([[-0.1104, -0.9607],\n",
              "        [-0.1917,  1.9993],\n",
              "        [-1.2721, -1.6472],\n",
              "        [ 0.0060,  0.8191],\n",
              "        [ 0.5472, -0.3843],\n",
              "        [ 0.3364,  1.0022]])"
            ]
          },
          "metadata": {
            "tags": []
          },
          "execution_count": 4
        }
      ]
    },
    {
      "cell_type": "markdown",
      "metadata": {
        "id": "BhRgzLgkyls-",
        "colab_type": "text"
      },
      "source": [
        "Here the input shape is (3,4) but the output is (6,2) not(4,3). This can be done until we maintain the dimensionality of the tensor and make sure the number of elements in output tensor is same as that of input tensor."
      ]
    },
    {
      "cell_type": "code",
      "metadata": {
        "id": "fILj7gS4yltB",
        "colab_type": "code",
        "colab": {
          "base_uri": "https://localhost:8080/",
          "height": 180
        },
        "outputId": "fc18ef95-5d66-435a-a87c-732177994a34"
      },
      "source": [
        "# Example 3 - breaking (to illustrate when it breaks)\n",
        "torch.reshape(input=data, shape=(3,3))"
      ],
      "execution_count": 5,
      "outputs": [
        {
          "output_type": "error",
          "ename": "RuntimeError",
          "evalue": "ignored",
          "traceback": [
            "\u001b[0;31m---------------------------------------------------------------------------\u001b[0m",
            "\u001b[0;31mRuntimeError\u001b[0m                              Traceback (most recent call last)",
            "\u001b[0;32m<ipython-input-5-5ed7c9b89d50>\u001b[0m in \u001b[0;36m<module>\u001b[0;34m()\u001b[0m\n\u001b[1;32m      1\u001b[0m \u001b[0;31m# Example 3 - breaking (to illustrate when it breaks)\u001b[0m\u001b[0;34m\u001b[0m\u001b[0;34m\u001b[0m\u001b[0;34m\u001b[0m\u001b[0m\n\u001b[0;32m----> 2\u001b[0;31m \u001b[0mtorch\u001b[0m\u001b[0;34m.\u001b[0m\u001b[0mreshape\u001b[0m\u001b[0;34m(\u001b[0m\u001b[0minput\u001b[0m\u001b[0;34m=\u001b[0m\u001b[0mdata\u001b[0m\u001b[0;34m,\u001b[0m \u001b[0mshape\u001b[0m\u001b[0;34m=\u001b[0m\u001b[0;34m(\u001b[0m\u001b[0;36m3\u001b[0m\u001b[0;34m,\u001b[0m\u001b[0;36m3\u001b[0m\u001b[0;34m)\u001b[0m\u001b[0;34m)\u001b[0m\u001b[0;34m\u001b[0m\u001b[0;34m\u001b[0m\u001b[0m\n\u001b[0m",
            "\u001b[0;31mRuntimeError\u001b[0m: shape '[3, 3]' is invalid for input of size 8"
          ]
        }
      ]
    },
    {
      "cell_type": "markdown",
      "metadata": {
        "id": "uNFRkWVZyltT",
        "colab_type": "text"
      },
      "source": [
        "Here the reshape function breaks as the dimension/shape of input is (2,4) i.e., 8 elements but the reshape size is (3,3) i.e., 9 elements."
      ]
    },
    {
      "cell_type": "markdown",
      "metadata": {
        "id": "vWdt4piFyltX",
        "colab_type": "text"
      },
      "source": [
        "The reshape function can be used during matrix mutiplication or resizing the tensor for creating new neural nets."
      ]
    },
    {
      "cell_type": "markdown",
      "metadata": {
        "id": "0lPKfp7oyltd",
        "colab_type": "text"
      },
      "source": [
        "## Function 2 - torch.tensor:backward\n",
        "It compute the gradient of a current tensor w.r.t graph leaves. It accumulates the gradient in the leaves which should be zeroed before calling them.\n",
        "\n",
        "torch.backward(gradient=None, retain_graph=None, create_graph=False)\n"
      ]
    },
    {
      "cell_type": "code",
      "metadata": {
        "id": "YatRR_OXyltg",
        "colab_type": "code",
        "colab": {
          "base_uri": "https://localhost:8080/",
          "height": 34
        },
        "outputId": "cba565fa-cdf8-484f-a884-ca4a89dd89a8"
      },
      "source": [
        "# Example 1 - working\n",
        "data = torch.tensor([3.,4,5], requires_grad=True)\n",
        "data\n"
      ],
      "execution_count": 11,
      "outputs": [
        {
          "output_type": "execute_result",
          "data": {
            "text/plain": [
              "tensor([3., 4., 5.], requires_grad=True)"
            ]
          },
          "metadata": {
            "tags": []
          },
          "execution_count": 11
        }
      ]
    },
    {
      "cell_type": "code",
      "metadata": {
        "id": "vDtnqPZz4HIw",
        "colab_type": "code",
        "colab": {
          "base_uri": "https://localhost:8080/",
          "height": 34
        },
        "outputId": "e202869e-5810-4b20-ca67-a16c26ae1694"
      },
      "source": [
        "new_data = data.pow(4).sum()\n",
        "new_data\n"
      ],
      "execution_count": 13,
      "outputs": [
        {
          "output_type": "execute_result",
          "data": {
            "text/plain": [
              "tensor(962., grad_fn=<SumBackward0>)"
            ]
          },
          "metadata": {
            "tags": []
          },
          "execution_count": 13
        }
      ]
    },
    {
      "cell_type": "code",
      "metadata": {
        "id": "QlJqZIiu4U3d",
        "colab_type": "code",
        "colab": {}
      },
      "source": [
        "new_data.backward()"
      ],
      "execution_count": 0,
      "outputs": []
    },
    {
      "cell_type": "code",
      "metadata": {
        "id": "DcrcSRve4X_y",
        "colab_type": "code",
        "colab": {
          "base_uri": "https://localhost:8080/",
          "height": 34
        },
        "outputId": "f4460941-3207-4fdb-cf98-ac47b8290b47"
      },
      "source": [
        "data.grad"
      ],
      "execution_count": 15,
      "outputs": [
        {
          "output_type": "execute_result",
          "data": {
            "text/plain": [
              "tensor([108., 256., 500.])"
            ]
          },
          "metadata": {
            "tags": []
          },
          "execution_count": 15
        }
      ]
    },
    {
      "cell_type": "code",
      "metadata": {
        "id": "OEOmRUWo4a4O",
        "colab_type": "code",
        "colab": {
          "base_uri": "https://localhost:8080/",
          "height": 34
        },
        "outputId": "e5c6676b-cb23-4bf9-ff5e-dfb887807e52"
      },
      "source": [
        "data.pow(4)"
      ],
      "execution_count": 16,
      "outputs": [
        {
          "output_type": "execute_result",
          "data": {
            "text/plain": [
              "tensor([ 81., 256., 625.], grad_fn=<PowBackward0>)"
            ]
          },
          "metadata": {
            "tags": []
          },
          "execution_count": 16
        }
      ]
    },
    {
      "cell_type": "markdown",
      "metadata": {
        "id": "kVThiQChylt4",
        "colab_type": "text"
      },
      "source": [
        "f(x) = x^4\n",
        "\n",
        "Derivative: f'(x) = (d/dx)f(x)\n",
        "\n",
        "f'(x) = 4*(x^3)\n",
        "For x=3:\n",
        "\n",
        "f(x) = x^4 = 3^4 = 81\n",
        "\n",
        "f'(x)=4x^3 = 43^3 = 108"
      ]
    },
    {
      "cell_type": "code",
      "metadata": {
        "id": "_xBlPPXjylt8",
        "colab_type": "code",
        "colab": {
          "base_uri": "https://localhost:8080/",
          "height": 34
        },
        "outputId": "796d5750-7363-492b-aa3c-46fa943b7f58"
      },
      "source": [
        "# Example 2 - working\n",
        "data2 = torch.tensor(54321.,requires_grad=True)\n",
        "data2"
      ],
      "execution_count": 17,
      "outputs": [
        {
          "output_type": "execute_result",
          "data": {
            "text/plain": [
              "tensor(54321., requires_grad=True)"
            ]
          },
          "metadata": {
            "tags": []
          },
          "execution_count": 17
        }
      ]
    },
    {
      "cell_type": "code",
      "metadata": {
        "id": "wbZ0MJjN4re6",
        "colab_type": "code",
        "colab": {
          "base_uri": "https://localhost:8080/",
          "height": 34
        },
        "outputId": "e8fe2d11-97dd-43c3-c454-8a2159b4c22e"
      },
      "source": [
        "data2.backward()\n",
        "data2.grad"
      ],
      "execution_count": 18,
      "outputs": [
        {
          "output_type": "execute_result",
          "data": {
            "text/plain": [
              "tensor(1.)"
            ]
          },
          "metadata": {
            "tags": []
          },
          "execution_count": 18
        }
      ]
    },
    {
      "cell_type": "markdown",
      "metadata": {
        "id": "qh9tHOJ9yluW",
        "colab_type": "text"
      },
      "source": [
        "Tensor backward function also works on scalar value but needs gradient funtion to perform this."
      ]
    },
    {
      "cell_type": "code",
      "metadata": {
        "id": "AmdCEX1sylue",
        "colab_type": "code",
        "colab": {
          "base_uri": "https://localhost:8080/",
          "height": 34
        },
        "outputId": "b03d3056-dcbc-48f4-ae08-70df4f410da7"
      },
      "source": [
        "# Example 3 - breaking (to illustrate when it breaks)\n",
        "data3=torch.tensor(54321.)\n",
        "data3"
      ],
      "execution_count": 19,
      "outputs": [
        {
          "output_type": "execute_result",
          "data": {
            "text/plain": [
              "tensor(54321.)"
            ]
          },
          "metadata": {
            "tags": []
          },
          "execution_count": 19
        }
      ]
    },
    {
      "cell_type": "code",
      "metadata": {
        "id": "2aGUhRnH5aSo",
        "colab_type": "code",
        "colab": {
          "base_uri": "https://localhost:8080/",
          "height": 306
        },
        "outputId": "e37ecdb7-beab-43be-b0ca-ebb0de1c4fc8"
      },
      "source": [
        "data3.backward()"
      ],
      "execution_count": 20,
      "outputs": [
        {
          "output_type": "error",
          "ename": "RuntimeError",
          "evalue": "ignored",
          "traceback": [
            "\u001b[0;31m---------------------------------------------------------------------------\u001b[0m",
            "\u001b[0;31mRuntimeError\u001b[0m                              Traceback (most recent call last)",
            "\u001b[0;32m<ipython-input-20-1b9d28ce9c06>\u001b[0m in \u001b[0;36m<module>\u001b[0;34m()\u001b[0m\n\u001b[0;32m----> 1\u001b[0;31m \u001b[0mdata3\u001b[0m\u001b[0;34m.\u001b[0m\u001b[0mbackward\u001b[0m\u001b[0;34m(\u001b[0m\u001b[0;34m)\u001b[0m\u001b[0;34m\u001b[0m\u001b[0;34m\u001b[0m\u001b[0m\n\u001b[0m",
            "\u001b[0;32m/usr/local/lib/python3.6/dist-packages/torch/tensor.py\u001b[0m in \u001b[0;36mbackward\u001b[0;34m(self, gradient, retain_graph, create_graph)\u001b[0m\n\u001b[1;32m    196\u001b[0m                 \u001b[0mproducts\u001b[0m\u001b[0;34m.\u001b[0m \u001b[0mDefaults\u001b[0m \u001b[0mto\u001b[0m\u001b[0;31m \u001b[0m\u001b[0;31m`\u001b[0m\u001b[0;31m`\u001b[0m\u001b[0;32mFalse\u001b[0m\u001b[0;31m`\u001b[0m\u001b[0;31m`\u001b[0m\u001b[0;34m.\u001b[0m\u001b[0;34m\u001b[0m\u001b[0;34m\u001b[0m\u001b[0m\n\u001b[1;32m    197\u001b[0m         \"\"\"\n\u001b[0;32m--> 198\u001b[0;31m         \u001b[0mtorch\u001b[0m\u001b[0;34m.\u001b[0m\u001b[0mautograd\u001b[0m\u001b[0;34m.\u001b[0m\u001b[0mbackward\u001b[0m\u001b[0;34m(\u001b[0m\u001b[0mself\u001b[0m\u001b[0;34m,\u001b[0m \u001b[0mgradient\u001b[0m\u001b[0;34m,\u001b[0m \u001b[0mretain_graph\u001b[0m\u001b[0;34m,\u001b[0m \u001b[0mcreate_graph\u001b[0m\u001b[0;34m)\u001b[0m\u001b[0;34m\u001b[0m\u001b[0;34m\u001b[0m\u001b[0m\n\u001b[0m\u001b[1;32m    199\u001b[0m \u001b[0;34m\u001b[0m\u001b[0m\n\u001b[1;32m    200\u001b[0m     \u001b[0;32mdef\u001b[0m \u001b[0mregister_hook\u001b[0m\u001b[0;34m(\u001b[0m\u001b[0mself\u001b[0m\u001b[0;34m,\u001b[0m \u001b[0mhook\u001b[0m\u001b[0;34m)\u001b[0m\u001b[0;34m:\u001b[0m\u001b[0;34m\u001b[0m\u001b[0;34m\u001b[0m\u001b[0m\n",
            "\u001b[0;32m/usr/local/lib/python3.6/dist-packages/torch/autograd/__init__.py\u001b[0m in \u001b[0;36mbackward\u001b[0;34m(tensors, grad_tensors, retain_graph, create_graph, grad_variables)\u001b[0m\n\u001b[1;32m     98\u001b[0m     Variable._execution_engine.run_backward(\n\u001b[1;32m     99\u001b[0m         \u001b[0mtensors\u001b[0m\u001b[0;34m,\u001b[0m \u001b[0mgrad_tensors\u001b[0m\u001b[0;34m,\u001b[0m \u001b[0mretain_graph\u001b[0m\u001b[0;34m,\u001b[0m \u001b[0mcreate_graph\u001b[0m\u001b[0;34m,\u001b[0m\u001b[0;34m\u001b[0m\u001b[0;34m\u001b[0m\u001b[0m\n\u001b[0;32m--> 100\u001b[0;31m         allow_unreachable=True)  # allow_unreachable flag\n\u001b[0m\u001b[1;32m    101\u001b[0m \u001b[0;34m\u001b[0m\u001b[0m\n\u001b[1;32m    102\u001b[0m \u001b[0;34m\u001b[0m\u001b[0m\n",
            "\u001b[0;31mRuntimeError\u001b[0m: element 0 of tensors does not require grad and does not have a grad_fn"
          ]
        }
      ]
    },
    {
      "cell_type": "markdown",
      "metadata": {
        "id": "lggObTXxylun",
        "colab_type": "text"
      },
      "source": [
        "Here the backward function fails because data3 does not know about the gradient function to do the derivative of the given constant."
      ]
    },
    {
      "cell_type": "markdown",
      "metadata": {
        "id": "yyVVbZbRylup",
        "colab_type": "text"
      },
      "source": [
        "Backward function is used to determine the gradient of the loss function w.r.t all other variables and its output will always be a scalar."
      ]
    },
    {
      "cell_type": "markdown",
      "metadata": {
        "id": "Zmts0YXnylur",
        "colab_type": "text"
      },
      "source": [
        "## Function 3 - torch.tensor: var\n",
        "\n",
        "The var function returns the variance of all the elements present in the tensor. If unbiased= False, then variance is calculated via biased estimator.\n",
        "\n",
        "var(dim=None, unbiased=True, keepdim=False) → Tensor\n"
      ]
    },
    {
      "cell_type": "code",
      "metadata": {
        "id": "6GRqBmDzyluw",
        "colab_type": "code",
        "colab": {
          "base_uri": "https://localhost:8080/",
          "height": 34
        },
        "outputId": "2b836bb6-9f5e-404c-9f40-324a915c85f4"
      },
      "source": [
        "# Example 1 - working\n",
        "data = torch.tensor([1.,9,5,4,1,7,3,7,5,6])\n",
        "data.var()"
      ],
      "execution_count": 21,
      "outputs": [
        {
          "output_type": "execute_result",
          "data": {
            "text/plain": [
              "tensor(6.8444)"
            ]
          },
          "metadata": {
            "tags": []
          },
          "execution_count": 21
        }
      ]
    },
    {
      "cell_type": "markdown",
      "metadata": {
        "id": "qClu50N5ylvA",
        "colab_type": "text"
      },
      "source": [
        "Variance of the input is always floating point."
      ]
    },
    {
      "cell_type": "code",
      "metadata": {
        "id": "azH7sNV7ylvC",
        "colab_type": "code",
        "colab": {
          "base_uri": "https://localhost:8080/",
          "height": 34
        },
        "outputId": "56a58ad8-0da5-4431-f875-82eae979e0e9"
      },
      "source": [
        "# Example 2 - working\n",
        "data=torch.randn(size=[3,5])\n",
        "data.var()"
      ],
      "execution_count": 24,
      "outputs": [
        {
          "output_type": "execute_result",
          "data": {
            "text/plain": [
              "tensor(1.1549)"
            ]
          },
          "metadata": {
            "tags": []
          },
          "execution_count": 24
        }
      ]
    },
    {
      "cell_type": "markdown",
      "metadata": {
        "id": "Fgc-k85EylvU",
        "colab_type": "text"
      },
      "source": [
        "Variance can be found of any dimension tensor."
      ]
    },
    {
      "cell_type": "code",
      "metadata": {
        "id": "ng8XEUDTylvV",
        "colab_type": "code",
        "colab": {
          "base_uri": "https://localhost:8080/",
          "height": 197
        },
        "outputId": "c2366323-033f-4085-e119-5d1ec28e4783"
      },
      "source": [
        "# Example 3 - breaking (to illustrate when it breaks)\n",
        "data = torch.tensor([1,9,5,4,1,7,3,7,5,6])\n",
        "data.var()"
      ],
      "execution_count": 25,
      "outputs": [
        {
          "output_type": "error",
          "ename": "RuntimeError",
          "evalue": "ignored",
          "traceback": [
            "\u001b[0;31m---------------------------------------------------------------------------\u001b[0m",
            "\u001b[0;31mRuntimeError\u001b[0m                              Traceback (most recent call last)",
            "\u001b[0;32m<ipython-input-25-a08366604e0d>\u001b[0m in \u001b[0;36m<module>\u001b[0;34m()\u001b[0m\n\u001b[1;32m      1\u001b[0m \u001b[0;31m# Example 3 - breaking (to illustrate when it breaks)\u001b[0m\u001b[0;34m\u001b[0m\u001b[0;34m\u001b[0m\u001b[0;34m\u001b[0m\u001b[0m\n\u001b[1;32m      2\u001b[0m \u001b[0mdata\u001b[0m \u001b[0;34m=\u001b[0m \u001b[0mtorch\u001b[0m\u001b[0;34m.\u001b[0m\u001b[0mtensor\u001b[0m\u001b[0;34m(\u001b[0m\u001b[0;34m[\u001b[0m\u001b[0;36m1\u001b[0m\u001b[0;34m,\u001b[0m\u001b[0;36m9\u001b[0m\u001b[0;34m,\u001b[0m\u001b[0;36m5\u001b[0m\u001b[0;34m,\u001b[0m\u001b[0;36m4\u001b[0m\u001b[0;34m,\u001b[0m\u001b[0;36m1\u001b[0m\u001b[0;34m,\u001b[0m\u001b[0;36m7\u001b[0m\u001b[0;34m,\u001b[0m\u001b[0;36m3\u001b[0m\u001b[0;34m,\u001b[0m\u001b[0;36m7\u001b[0m\u001b[0;34m,\u001b[0m\u001b[0;36m5\u001b[0m\u001b[0;34m,\u001b[0m\u001b[0;36m6\u001b[0m\u001b[0;34m]\u001b[0m\u001b[0;34m)\u001b[0m\u001b[0;34m\u001b[0m\u001b[0;34m\u001b[0m\u001b[0m\n\u001b[0;32m----> 3\u001b[0;31m \u001b[0mdata\u001b[0m\u001b[0;34m.\u001b[0m\u001b[0mvar\u001b[0m\u001b[0;34m(\u001b[0m\u001b[0;34m)\u001b[0m\u001b[0;34m\u001b[0m\u001b[0;34m\u001b[0m\u001b[0m\n\u001b[0m",
            "\u001b[0;31mRuntimeError\u001b[0m: var only supports floating-point dtypes"
          ]
        }
      ]
    },
    {
      "cell_type": "markdown",
      "metadata": {
        "id": "1amtvQOgylvg",
        "colab_type": "text"
      },
      "source": [
        "This function breaks here because the input passed is of 'integer' datatype instead of 'floating point'. The variance will be of float type so input should be of floating type."
      ]
    },
    {
      "cell_type": "markdown",
      "metadata": {
        "id": "hbfuwrNMylvi",
        "colab_type": "text"
      },
      "source": [
        "This function should be used calculate the variance which is an error in model's sensitivity to small fluctuation in the training set."
      ]
    },
    {
      "cell_type": "markdown",
      "metadata": {
        "id": "0EzMBJlNylvj",
        "colab_type": "text"
      },
      "source": [
        "## Function 4 - torch.tensor: abs\n",
        "\n",
        "It calculates the absolute value of a given tensor element-wise.\n",
        "\n",
        "input: The input tensor\n",
        "\n",
        "out: The tensor to which the output would be assigned.\n",
        "\n"
      ]
    },
    {
      "cell_type": "code",
      "metadata": {
        "id": "mSlwPkJkylvl",
        "colab_type": "code",
        "colab": {
          "base_uri": "https://localhost:8080/",
          "height": 68
        },
        "outputId": "59489a0c-eb7f-44f3-8ab6-8bec5af2b71c"
      },
      "source": [
        "# Example 1 - working\n",
        "data = torch.randn(size=[3,5])\n",
        "data"
      ],
      "execution_count": 31,
      "outputs": [
        {
          "output_type": "execute_result",
          "data": {
            "text/plain": [
              "tensor([[ 1.4416, -0.4378, -2.0714, -0.6321,  1.0958],\n",
              "        [ 0.0752, -0.0730, -0.1158, -0.1328, -0.2804],\n",
              "        [ 1.2769, -0.4576,  0.0442,  1.0833,  1.3341]])"
            ]
          },
          "metadata": {
            "tags": []
          },
          "execution_count": 31
        }
      ]
    },
    {
      "cell_type": "code",
      "metadata": {
        "id": "24bYPhJw9Qt7",
        "colab_type": "code",
        "colab": {
          "base_uri": "https://localhost:8080/",
          "height": 68
        },
        "outputId": "40eaffbc-8092-4c4c-c304-3ca1283f55b1"
      },
      "source": [
        "abs_data = torch.abs(data)\n",
        "abs_data"
      ],
      "execution_count": 33,
      "outputs": [
        {
          "output_type": "execute_result",
          "data": {
            "text/plain": [
              "tensor([[1.4416, 0.4378, 2.0714, 0.6321, 1.0958],\n",
              "        [0.0752, 0.0730, 0.1158, 0.1328, 0.2804],\n",
              "        [1.2769, 0.4576, 0.0442, 1.0833, 1.3341]])"
            ]
          },
          "metadata": {
            "tags": []
          },
          "execution_count": 33
        }
      ]
    },
    {
      "cell_type": "markdown",
      "metadata": {
        "id": "AOhfa7SVylvt",
        "colab_type": "text"
      },
      "source": [
        "The absolute value of the input data generated with randn function is assigned to abs_data which has all positive value as expected."
      ]
    },
    {
      "cell_type": "code",
      "metadata": {
        "id": "AOBD9B0xylvv",
        "colab_type": "code",
        "colab": {
          "base_uri": "https://localhost:8080/",
          "height": 51
        },
        "outputId": "b5e85737-de02-44d5-e13b-6b274f3875c5"
      },
      "source": [
        "# Example 2 - working\n",
        "output = torch.abs(torch.tensor([[1,-1,2,-2],[-1,1,-2,2]]))\n",
        "output"
      ],
      "execution_count": 35,
      "outputs": [
        {
          "output_type": "execute_result",
          "data": {
            "text/plain": [
              "tensor([[1, 1, 2, 2],\n",
              "        [1, 1, 2, 2]])"
            ]
          },
          "metadata": {
            "tags": []
          },
          "execution_count": 35
        }
      ]
    },
    {
      "cell_type": "markdown",
      "metadata": {
        "id": "xJEQGqPyylv4",
        "colab_type": "text"
      },
      "source": [
        "We can directly pass the tensor to the abs function and it returns the absolute value of it."
      ]
    },
    {
      "cell_type": "code",
      "metadata": {
        "id": "nr8tjTJFylv5",
        "colab_type": "code",
        "colab": {
          "base_uri": "https://localhost:8080/",
          "height": 214
        },
        "outputId": "5d2180da-fc1c-4bde-9d77-5a0e222e860c"
      },
      "source": [
        "# Example 3 - breaking (to illustrate when it breaks)\n",
        "output = None\n",
        "data = torch.tensor([1+1j,-1-1j])\n",
        "torch.abs(input=data, out=output)\n"
      ],
      "execution_count": 38,
      "outputs": [
        {
          "output_type": "error",
          "ename": "RuntimeError",
          "evalue": "ignored",
          "traceback": [
            "\u001b[0;31m---------------------------------------------------------------------------\u001b[0m",
            "\u001b[0;31mRuntimeError\u001b[0m                              Traceback (most recent call last)",
            "\u001b[0;32m<ipython-input-38-cced35fa65bd>\u001b[0m in \u001b[0;36m<module>\u001b[0;34m()\u001b[0m\n\u001b[1;32m      1\u001b[0m \u001b[0;31m# Example 3 - breaking (to illustrate when it breaks)\u001b[0m\u001b[0;34m\u001b[0m\u001b[0;34m\u001b[0m\u001b[0;34m\u001b[0m\u001b[0m\n\u001b[1;32m      2\u001b[0m \u001b[0moutput\u001b[0m \u001b[0;34m=\u001b[0m \u001b[0;32mNone\u001b[0m\u001b[0;34m\u001b[0m\u001b[0;34m\u001b[0m\u001b[0m\n\u001b[0;32m----> 3\u001b[0;31m \u001b[0mdata\u001b[0m \u001b[0;34m=\u001b[0m \u001b[0mtorch\u001b[0m\u001b[0;34m.\u001b[0m\u001b[0mtensor\u001b[0m\u001b[0;34m(\u001b[0m\u001b[0;34m[\u001b[0m\u001b[0;36m1\u001b[0m\u001b[0;34m+\u001b[0m\u001b[0;36m1j\u001b[0m\u001b[0;34m,\u001b[0m\u001b[0;34m-\u001b[0m\u001b[0;36m1\u001b[0m\u001b[0;34m-\u001b[0m\u001b[0;36m1j\u001b[0m\u001b[0;34m]\u001b[0m\u001b[0;34m)\u001b[0m\u001b[0;34m\u001b[0m\u001b[0;34m\u001b[0m\u001b[0m\n\u001b[0m\u001b[1;32m      4\u001b[0m \u001b[0mtorch\u001b[0m\u001b[0;34m.\u001b[0m\u001b[0mabs\u001b[0m\u001b[0;34m(\u001b[0m\u001b[0minput\u001b[0m\u001b[0;34m=\u001b[0m\u001b[0mdata\u001b[0m\u001b[0;34m,\u001b[0m \u001b[0mout\u001b[0m\u001b[0;34m=\u001b[0m\u001b[0moutput\u001b[0m\u001b[0;34m)\u001b[0m\u001b[0;34m\u001b[0m\u001b[0;34m\u001b[0m\u001b[0m\n",
            "\u001b[0;31mRuntimeError\u001b[0m: Complex dtype not supported."
          ]
        }
      ]
    },
    {
      "cell_type": "markdown",
      "metadata": {
        "id": "qUdshCQuylwB",
        "colab_type": "text"
      },
      "source": [
        "It doesn't work with complex numbers."
      ]
    },
    {
      "cell_type": "markdown",
      "metadata": {
        "id": "084Tj3l2ylwB",
        "colab_type": "text"
      },
      "source": [
        "This function is used to calculate loss function and optimization."
      ]
    },
    {
      "cell_type": "markdown",
      "metadata": {
        "id": "JG60wsrSylwC",
        "colab_type": "text"
      },
      "source": [
        "## Function 5 - torch.tensor: add\n",
        "\n",
        "This function add a scalar to tensor and returns new tensor as an output. The scalar to be added should be compatible with the tensor datatype.\n",
        "\n",
        "torch.add(input, other, out=None)\n",
        "\n"
      ]
    },
    {
      "cell_type": "code",
      "metadata": {
        "id": "B2NTJOkMylwD",
        "colab_type": "code",
        "colab": {
          "base_uri": "https://localhost:8080/",
          "height": 68
        },
        "outputId": "aefa8115-4a12-4d66-bdc5-3757217c8024"
      },
      "source": [
        "# Example 1 - working\n",
        "value = 555.\n",
        "data = torch.randn(size=(3,4))\n",
        "data\n"
      ],
      "execution_count": 43,
      "outputs": [
        {
          "output_type": "execute_result",
          "data": {
            "text/plain": [
              "tensor([[-3.8150e-01, -1.1130e+00,  1.0138e-03,  1.2307e+00],\n",
              "        [ 1.6863e-01,  3.6077e-01,  6.4210e-01,  1.0898e+00],\n",
              "        [-5.3647e-02,  3.1737e-01, -7.6043e-01, -1.6749e-03]])"
            ]
          },
          "metadata": {
            "tags": []
          },
          "execution_count": 43
        }
      ]
    },
    {
      "cell_type": "code",
      "metadata": {
        "id": "gKPT5dDyA7HA",
        "colab_type": "code",
        "colab": {
          "base_uri": "https://localhost:8080/",
          "height": 68
        },
        "outputId": "6169dfba-a513-41a2-e009-bdbba81a5b05"
      },
      "source": [
        "torch.add(data,other=value)\n"
      ],
      "execution_count": 44,
      "outputs": [
        {
          "output_type": "execute_result",
          "data": {
            "text/plain": [
              "tensor([[554.6185, 553.8870, 555.0010, 556.2307],\n",
              "        [555.1686, 555.3608, 555.6421, 556.0898],\n",
              "        [554.9464, 555.3174, 554.2396, 554.9984]])"
            ]
          },
          "metadata": {
            "tags": []
          },
          "execution_count": 44
        }
      ]
    },
    {
      "cell_type": "markdown",
      "metadata": {
        "id": "6FWH8zVGylwH",
        "colab_type": "text"
      },
      "source": [
        "The scalar value of type float is added to each element of the tensor input data.\n"
      ]
    },
    {
      "cell_type": "code",
      "metadata": {
        "id": "H15XUO2zylwI",
        "colab_type": "code",
        "colab": {
          "base_uri": "https://localhost:8080/",
          "height": 68
        },
        "outputId": "ada55a3c-31b3-48fb-b651-9d7b483a4bbb"
      },
      "source": [
        "# Example 2 - working\n",
        "value = 555\n",
        "data = torch.randn(size=(3,4))\n",
        "data\n"
      ],
      "execution_count": 45,
      "outputs": [
        {
          "output_type": "execute_result",
          "data": {
            "text/plain": [
              "tensor([[-1.2101, -0.4521,  0.4845,  1.6008],\n",
              "        [-0.4633, -1.2183,  0.6812, -0.4122],\n",
              "        [-0.7107, -0.7804,  0.4641,  0.0239]])"
            ]
          },
          "metadata": {
            "tags": []
          },
          "execution_count": 45
        }
      ]
    },
    {
      "cell_type": "code",
      "metadata": {
        "id": "Kd7Hxky1BaI4",
        "colab_type": "code",
        "colab": {
          "base_uri": "https://localhost:8080/",
          "height": 68
        },
        "outputId": "12fb8165-94eb-410e-bd1e-ea9892fb8d10"
      },
      "source": [
        "new_data=torch.add(data,other=value, out=new_data)\n",
        "new_data"
      ],
      "execution_count": 47,
      "outputs": [
        {
          "output_type": "execute_result",
          "data": {
            "text/plain": [
              "tensor([[553.7899, 554.5480, 555.4845, 556.6008],\n",
              "        [554.5367, 553.7817, 555.6812, 554.5878],\n",
              "        [554.2893, 554.2196, 555.4641, 555.0239]])"
            ]
          },
          "metadata": {
            "tags": []
          },
          "execution_count": 47
        }
      ]
    },
    {
      "cell_type": "markdown",
      "metadata": {
        "id": "88vq9NxhylwL",
        "colab_type": "text"
      },
      "source": [
        "The integer scalar has been added in all the element of the tensor and it has been copied to new output file."
      ]
    },
    {
      "cell_type": "code",
      "metadata": {
        "id": "8ilEN7sqylwL",
        "colab_type": "code",
        "colab": {
          "base_uri": "https://localhost:8080/",
          "height": 214
        },
        "outputId": "6894c8c4-a9ff-475e-cccb-29800e86dfdb"
      },
      "source": [
        "# Example 3 - breaking (to illustrate when it breaks)\n",
        "value1 = torch.tensor()\n",
        "data = torch.randn(size=(3,4))\n",
        "torch.add(data,other=value1, out=None)"
      ],
      "execution_count": 49,
      "outputs": [
        {
          "output_type": "error",
          "ename": "TypeError",
          "evalue": "ignored",
          "traceback": [
            "\u001b[0;31m---------------------------------------------------------------------------\u001b[0m",
            "\u001b[0;31mTypeError\u001b[0m                                 Traceback (most recent call last)",
            "\u001b[0;32m<ipython-input-49-220db786f61a>\u001b[0m in \u001b[0;36m<module>\u001b[0;34m()\u001b[0m\n\u001b[1;32m      1\u001b[0m \u001b[0;31m# Example 3 - breaking (to illustrate when it breaks)\u001b[0m\u001b[0;34m\u001b[0m\u001b[0;34m\u001b[0m\u001b[0;34m\u001b[0m\u001b[0m\n\u001b[0;32m----> 2\u001b[0;31m \u001b[0mvalue1\u001b[0m \u001b[0;34m=\u001b[0m \u001b[0mtorch\u001b[0m\u001b[0;34m.\u001b[0m\u001b[0mtensor\u001b[0m\u001b[0;34m(\u001b[0m\u001b[0;34m)\u001b[0m\u001b[0;34m\u001b[0m\u001b[0;34m\u001b[0m\u001b[0m\n\u001b[0m\u001b[1;32m      3\u001b[0m \u001b[0mdata\u001b[0m \u001b[0;34m=\u001b[0m \u001b[0mtorch\u001b[0m\u001b[0;34m.\u001b[0m\u001b[0mrandn\u001b[0m\u001b[0;34m(\u001b[0m\u001b[0msize\u001b[0m\u001b[0;34m=\u001b[0m\u001b[0;34m(\u001b[0m\u001b[0;36m3\u001b[0m\u001b[0;34m,\u001b[0m\u001b[0;36m4\u001b[0m\u001b[0;34m)\u001b[0m\u001b[0;34m)\u001b[0m\u001b[0;34m\u001b[0m\u001b[0;34m\u001b[0m\u001b[0m\n\u001b[1;32m      4\u001b[0m \u001b[0mtorch\u001b[0m\u001b[0;34m.\u001b[0m\u001b[0madd\u001b[0m\u001b[0;34m(\u001b[0m\u001b[0mdata\u001b[0m\u001b[0;34m,\u001b[0m\u001b[0mother\u001b[0m\u001b[0;34m=\u001b[0m\u001b[0mvalue1\u001b[0m\u001b[0;34m,\u001b[0m \u001b[0mout\u001b[0m\u001b[0;34m=\u001b[0m\u001b[0;32mNone\u001b[0m\u001b[0;34m)\u001b[0m\u001b[0;34m\u001b[0m\u001b[0;34m\u001b[0m\u001b[0m\n",
            "\u001b[0;31mTypeError\u001b[0m: tensor() missing 1 required positional arguments: \"data\""
          ]
        }
      ]
    },
    {
      "cell_type": "markdown",
      "metadata": {
        "id": "KW8S8Y-iylwN",
        "colab_type": "text"
      },
      "source": [
        "This above example fails because the other argument passed should be a scalar value to be added to input but instead it finds tensor datatype which is not acceptable.\n"
      ]
    },
    {
      "cell_type": "markdown",
      "metadata": {
        "id": "Dhgt_mjKylwO",
        "colab_type": "text"
      },
      "source": [
        "This function can be used during optimiation like gradient descent calculation."
      ]
    },
    {
      "cell_type": "markdown",
      "metadata": {
        "id": "pyE-s08CylwO",
        "colab_type": "text"
      },
      "source": [
        "## Conclusion\n",
        "\n",
        "This notebook contains the five pytorch functions that operate on tensors and tried to simplify the functionality with the proper examples where it would work or may throw errors.\n",
        "\n",
        "There are many more such built-in pytorch functionalities which makes this framework flexible and easier to understand.\n"
      ]
    },
    {
      "cell_type": "markdown",
      "metadata": {
        "id": "0XX9o6N5ylwQ",
        "colab_type": "text"
      },
      "source": [
        "## Reference Links\n",
        "Provide links to your references and other interesting articles about tensors\n",
        "* Official documentation for `torch.Tensor`: https://pytorch.org/docs/stable/tensors.html\n",
        "* ..."
      ]
    },
    {
      "cell_type": "code",
      "metadata": {
        "id": "SJLXPCUxylwR",
        "colab_type": "code",
        "colab": {}
      },
      "source": [
        "!pip install jovian --upgrade --quiet"
      ],
      "execution_count": 0,
      "outputs": []
    },
    {
      "cell_type": "code",
      "metadata": {
        "id": "zlwUs8rzylwW",
        "colab_type": "code",
        "colab": {}
      },
      "source": [
        "import jovian"
      ],
      "execution_count": 0,
      "outputs": []
    },
    {
      "cell_type": "code",
      "metadata": {
        "id": "NbAdwjLMylwa",
        "colab_type": "code",
        "colab": {
          "base_uri": "https://localhost:8080/",
          "height": 34
        },
        "outputId": "082f0625-88b8-4e39-d33c-94cb63961832"
      },
      "source": [
        "jovian.commit()"
      ],
      "execution_count": 58,
      "outputs": [
        {
          "output_type": "stream",
          "text": [
            "\u001b[31m[jovian] Error: Failed to detect Jupyter notebook or Python script. Skipping..\u001b[0m\n"
          ],
          "name": "stderr"
        }
      ]
    },
    {
      "cell_type": "code",
      "metadata": {
        "id": "ZUiMZUtyylwe",
        "colab_type": "code",
        "colab": {}
      },
      "source": [
        ""
      ],
      "execution_count": 0,
      "outputs": []
    }
  ]
}